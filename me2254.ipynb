{
  "nbformat": 4,
  "nbformat_minor": 0,
  "metadata": {
    "colab": {
      "provenance": [],
      "authorship_tag": "ABX9TyN1LQjtsJf5Z/K3oNPfSFIN",
      "include_colab_link": true
    },
    "kernelspec": {
      "name": "python3",
      "display_name": "Python 3"
    },
    "language_info": {
      "name": "python"
    }
  },
  "cells": [
    {
      "cell_type": "markdown",
      "metadata": {
        "id": "view-in-github",
        "colab_type": "text"
      },
      "source": [
        "<a href=\"https://colab.research.google.com/github/Annavrami/test1/blob/main/me2254.ipynb\" target=\"_parent\"><img src=\"https://colab.research.google.com/assets/colab-badge.svg\" alt=\"Open In Colab\"/></a>"
      ]
    },
    {
      "cell_type": "code",
      "source": [
        "from sklearn.datasets import load_iris\n",
        "from sklearn.model_selection import train_test_split\n",
        "import pandas as pd\n",
        "import numpy as np\n",
        "from sklearn.preprocessing import StandardScaler\n",
        "from sklearn.metrics import precision_score, f1_score\n",
        "from sklearn.linear_model import SGDClassifier\n",
        "\n",
        "from imblearn.over_sampling import RandomOverSampler\n",
        "\n",
        "\n",
        "from keras.datasets import cifar10\n",
        "from sklearn.svm import SVC\n",
        "from sklearn.metrics import accuracy_score\n",
        "import numpy as np\n",
        "import matplotlib.pyplot as plt"
      ],
      "metadata": {
        "id": "WL37jbP8iWlr"
      },
      "execution_count": null,
      "outputs": []
    },
    {
      "cell_type": "code",
      "source": [
        "#load iris dataset\n",
        "iris = load_iris()\n",
        "iris = pd.DataFrame(\n",
        "    data= np.c_[iris['data'], iris['target']],\n",
        "    columns= iris['feature_names'] + ['target'])\n",
        "iris.head()"
      ],
      "metadata": {
        "colab": {
          "base_uri": "https://localhost:8080/",
          "height": 206
        },
        "id": "WkJL6gwUZmfy",
        "outputId": "7c0df715-b8f6-4d7f-9cea-8833f4751cdb"
      },
      "execution_count": null,
      "outputs": [
        {
          "output_type": "execute_result",
          "data": {
            "text/plain": [
              "   sepal length (cm)  sepal width (cm)  petal length (cm)  petal width (cm)  \\\n",
              "0                5.1               3.5                1.4               0.2   \n",
              "1                4.9               3.0                1.4               0.2   \n",
              "2                4.7               3.2                1.3               0.2   \n",
              "3                4.6               3.1                1.5               0.2   \n",
              "4                5.0               3.6                1.4               0.2   \n",
              "\n",
              "   target  \n",
              "0     0.0  \n",
              "1     0.0  \n",
              "2     0.0  \n",
              "3     0.0  \n",
              "4     0.0  "
            ],
            "text/html": [
              "\n",
              "  <div id=\"df-2f483b0c-9efb-4c00-9608-043fa90e63bf\">\n",
              "    <div class=\"colab-df-container\">\n",
              "      <div>\n",
              "<style scoped>\n",
              "    .dataframe tbody tr th:only-of-type {\n",
              "        vertical-align: middle;\n",
              "    }\n",
              "\n",
              "    .dataframe tbody tr th {\n",
              "        vertical-align: top;\n",
              "    }\n",
              "\n",
              "    .dataframe thead th {\n",
              "        text-align: right;\n",
              "    }\n",
              "</style>\n",
              "<table border=\"1\" class=\"dataframe\">\n",
              "  <thead>\n",
              "    <tr style=\"text-align: right;\">\n",
              "      <th></th>\n",
              "      <th>sepal length (cm)</th>\n",
              "      <th>sepal width (cm)</th>\n",
              "      <th>petal length (cm)</th>\n",
              "      <th>petal width (cm)</th>\n",
              "      <th>target</th>\n",
              "    </tr>\n",
              "  </thead>\n",
              "  <tbody>\n",
              "    <tr>\n",
              "      <th>0</th>\n",
              "      <td>5.1</td>\n",
              "      <td>3.5</td>\n",
              "      <td>1.4</td>\n",
              "      <td>0.2</td>\n",
              "      <td>0.0</td>\n",
              "    </tr>\n",
              "    <tr>\n",
              "      <th>1</th>\n",
              "      <td>4.9</td>\n",
              "      <td>3.0</td>\n",
              "      <td>1.4</td>\n",
              "      <td>0.2</td>\n",
              "      <td>0.0</td>\n",
              "    </tr>\n",
              "    <tr>\n",
              "      <th>2</th>\n",
              "      <td>4.7</td>\n",
              "      <td>3.2</td>\n",
              "      <td>1.3</td>\n",
              "      <td>0.2</td>\n",
              "      <td>0.0</td>\n",
              "    </tr>\n",
              "    <tr>\n",
              "      <th>3</th>\n",
              "      <td>4.6</td>\n",
              "      <td>3.1</td>\n",
              "      <td>1.5</td>\n",
              "      <td>0.2</td>\n",
              "      <td>0.0</td>\n",
              "    </tr>\n",
              "    <tr>\n",
              "      <th>4</th>\n",
              "      <td>5.0</td>\n",
              "      <td>3.6</td>\n",
              "      <td>1.4</td>\n",
              "      <td>0.2</td>\n",
              "      <td>0.0</td>\n",
              "    </tr>\n",
              "  </tbody>\n",
              "</table>\n",
              "</div>\n",
              "      <button class=\"colab-df-convert\" onclick=\"convertToInteractive('df-2f483b0c-9efb-4c00-9608-043fa90e63bf')\"\n",
              "              title=\"Convert this dataframe to an interactive table.\"\n",
              "              style=\"display:none;\">\n",
              "        \n",
              "  <svg xmlns=\"http://www.w3.org/2000/svg\" height=\"24px\"viewBox=\"0 0 24 24\"\n",
              "       width=\"24px\">\n",
              "    <path d=\"M0 0h24v24H0V0z\" fill=\"none\"/>\n",
              "    <path d=\"M18.56 5.44l.94 2.06.94-2.06 2.06-.94-2.06-.94-.94-2.06-.94 2.06-2.06.94zm-11 1L8.5 8.5l.94-2.06 2.06-.94-2.06-.94L8.5 2.5l-.94 2.06-2.06.94zm10 10l.94 2.06.94-2.06 2.06-.94-2.06-.94-.94-2.06-.94 2.06-2.06.94z\"/><path d=\"M17.41 7.96l-1.37-1.37c-.4-.4-.92-.59-1.43-.59-.52 0-1.04.2-1.43.59L10.3 9.45l-7.72 7.72c-.78.78-.78 2.05 0 2.83L4 21.41c.39.39.9.59 1.41.59.51 0 1.02-.2 1.41-.59l7.78-7.78 2.81-2.81c.8-.78.8-2.07 0-2.86zM5.41 20L4 18.59l7.72-7.72 1.47 1.35L5.41 20z\"/>\n",
              "  </svg>\n",
              "      </button>\n",
              "      \n",
              "  <style>\n",
              "    .colab-df-container {\n",
              "      display:flex;\n",
              "      flex-wrap:wrap;\n",
              "      gap: 12px;\n",
              "    }\n",
              "\n",
              "    .colab-df-convert {\n",
              "      background-color: #E8F0FE;\n",
              "      border: none;\n",
              "      border-radius: 50%;\n",
              "      cursor: pointer;\n",
              "      display: none;\n",
              "      fill: #1967D2;\n",
              "      height: 32px;\n",
              "      padding: 0 0 0 0;\n",
              "      width: 32px;\n",
              "    }\n",
              "\n",
              "    .colab-df-convert:hover {\n",
              "      background-color: #E2EBFA;\n",
              "      box-shadow: 0px 1px 2px rgba(60, 64, 67, 0.3), 0px 1px 3px 1px rgba(60, 64, 67, 0.15);\n",
              "      fill: #174EA6;\n",
              "    }\n",
              "\n",
              "    [theme=dark] .colab-df-convert {\n",
              "      background-color: #3B4455;\n",
              "      fill: #D2E3FC;\n",
              "    }\n",
              "\n",
              "    [theme=dark] .colab-df-convert:hover {\n",
              "      background-color: #434B5C;\n",
              "      box-shadow: 0px 1px 3px 1px rgba(0, 0, 0, 0.15);\n",
              "      filter: drop-shadow(0px 1px 2px rgba(0, 0, 0, 0.3));\n",
              "      fill: #FFFFFF;\n",
              "    }\n",
              "  </style>\n",
              "\n",
              "      <script>\n",
              "        const buttonEl =\n",
              "          document.querySelector('#df-2f483b0c-9efb-4c00-9608-043fa90e63bf button.colab-df-convert');\n",
              "        buttonEl.style.display =\n",
              "          google.colab.kernel.accessAllowed ? 'block' : 'none';\n",
              "\n",
              "        async function convertToInteractive(key) {\n",
              "          const element = document.querySelector('#df-2f483b0c-9efb-4c00-9608-043fa90e63bf');\n",
              "          const dataTable =\n",
              "            await google.colab.kernel.invokeFunction('convertToInteractive',\n",
              "                                                     [key], {});\n",
              "          if (!dataTable) return;\n",
              "\n",
              "          const docLinkHtml = 'Like what you see? Visit the ' +\n",
              "            '<a target=\"_blank\" href=https://colab.research.google.com/notebooks/data_table.ipynb>data table notebook</a>'\n",
              "            + ' to learn more about interactive tables.';\n",
              "          element.innerHTML = '';\n",
              "          dataTable['output_type'] = 'display_data';\n",
              "          await google.colab.output.renderOutput(dataTable, element);\n",
              "          const docLink = document.createElement('div');\n",
              "          docLink.innerHTML = docLinkHtml;\n",
              "          element.appendChild(docLink);\n",
              "        }\n",
              "      </script>\n",
              "    </div>\n",
              "  </div>\n",
              "  "
            ]
          },
          "metadata": {},
          "execution_count": 25
        }
      ]
    },
    {
      "cell_type": "code",
      "source": [
        "#split the dataset into a training set and a testing set\n",
        "X = iris.drop(['target'], axis=1).to_numpy()\n",
        "y = iris['target'].to_numpy()\n",
        "\n",
        "X_train, X_test, y_train, y_test = train_test_split(X, y, test_size=0.3, random_state=None)"
      ],
      "metadata": {
        "id": "KDzpM7O6Z8hj"
      },
      "execution_count": null,
      "outputs": []
    },
    {
      "cell_type": "code",
      "source": [
        "#standardize the feature values in the training and testing sets.\n",
        "scale = StandardScaler()\n",
        "X_train = scale.fit_transform(X_train)\n",
        "X_test = scale.transform(X_test)"
      ],
      "metadata": {
        "id": "AVpRhxaxifOK"
      },
      "execution_count": null,
      "outputs": []
    },
    {
      "cell_type": "code",
      "source": [
        "# set number of batches and number of scans \n",
        "num_batches = [5,10, 20]\n",
        "num_scans= [6,11, 21]\n",
        "\n",
        "for batch in num_batches:\n",
        "    for scan in num_scans:\n",
        "        # Αρχικοποιούμε το μοντέλο\n",
        "        svm_model = SGDClassifier(loss='hinge', alpha=0.001, learning_rate='constant', eta0=0.01,\n",
        "                    max_iter=1000, average=30, n_iter_no_change=6)\n",
        "\n",
        "        # Εκπαιδεύουμε το μοντέλο χρησιμοποιώντας mini-batch SGD\n",
        "        n_samples = X_train.shape[0]\n",
        "        for scan in range(scan):\n",
        "            shuffled_indices = np.random.permutation(n_samples)\n",
        "            for batch_start in range(0, n_samples, batch):\n",
        "                batch_end = min(batch_start + batch, n_samples)\n",
        "                batch_indices = shuffled_indices[batch_start:batch_end]\n",
        "                X_batch = X_train[batch_indices]\n",
        "                y_batch = y_train[batch_indices]\n",
        "                svm_model.partial_fit(X_batch, y_batch, classes=np.unique(y_train))\n",
        "\n",
        "        # Προβλέπουμε τις ετικέτες του σετ ελέγχου\n",
        "        y_pred = svm_model.predict(X_test)\n",
        "\n",
        "        # Υπολογίζουμε την ακρίβεια, την προσέγγιση και το F1\n",
        "        accuracy = svm_model.score(X_test, y_test)\n",
        "        precision = precision_score(y_test, y_pred, average='weighted')\n",
        "        f1 = f1_score(y_test, y_pred, average='weighted')\n",
        "\n",
        "        # Εκτύπωση αποτελεσμάτων\n",
        "        print(\"ℓ = %d, T = %d, accuracy = %.3f, precision = %.3f, F1 = %.3f\" % (batch, scan, accuracy, precision, f1))"
      ],
      "metadata": {
        "colab": {
          "base_uri": "https://localhost:8080/"
        },
        "id": "WASv3To7inOL",
        "outputId": "4aad82ad-286e-4028-9686-3550bd446abc"
      },
      "execution_count": null,
      "outputs": [
        {
          "output_type": "stream",
          "name": "stdout",
          "text": [
            "ℓ = 5, T = 5, accuracy = 0.778, precision = 0.785, F1 = 0.781\n",
            "ℓ = 5, T = 10, accuracy = 0.800, precision = 0.807, F1 = 0.803\n",
            "ℓ = 5, T = 20, accuracy = 0.822, precision = 0.828, F1 = 0.824\n",
            "ℓ = 10, T = 5, accuracy = 0.778, precision = 0.785, F1 = 0.781\n",
            "ℓ = 10, T = 10, accuracy = 0.800, precision = 0.807, F1 = 0.803\n",
            "ℓ = 10, T = 20, accuracy = 0.778, precision = 0.788, F1 = 0.781\n",
            "ℓ = 20, T = 5, accuracy = 0.778, precision = 0.790, F1 = 0.773\n",
            "ℓ = 20, T = 10, accuracy = 0.778, precision = 0.788, F1 = 0.781\n",
            "ℓ = 20, T = 20, accuracy = 0.822, precision = 0.828, F1 = 0.824\n"
          ]
        }
      ]
    },
    {
      "cell_type": "markdown",
      "source": [
        "**Breast Cancer**"
      ],
      "metadata": {
        "id": "Csk7dYtf_X7W"
      }
    },
    {
      "cell_type": "code",
      "source": [
        "url = 'https://archive.ics.uci.edu/ml/machine-learning-databases/breast-cancer-wisconsin/breast-cancer-wisconsin.data'\n",
        "names = ['id', 'clump_thickness', 'uniform_cell_size', 'uniform_cell_shape', \n",
        "         'marginal_adhesion', 'single_epithelial_size', 'bare_nuclei',\n",
        "         'bland_chromatin', 'normal_nucleoli', 'mitoses', 'class']\n",
        "\n",
        "breast_cancer = pd.read_csv(url, names=names).replace('?', np.nan).dropna()\n",
        "breast_cancer[\"class\"]=np.where(breast_cancer[\"class\"]==4,1,-1)\n",
        "breast_cancer.head(10)"
      ],
      "metadata": {
        "colab": {
          "base_uri": "https://localhost:8080/",
          "height": 320
        },
        "id": "Eaw2flLSdAb8",
        "outputId": "8b158861-0e56-4c3b-f2f4-3807c7a75dbd"
      },
      "execution_count": null,
      "outputs": [
        {
          "output_type": "execute_result",
          "data": {
            "text/plain": [
              "        id  clump_thickness  uniform_cell_size  uniform_cell_shape  \\\n",
              "0  1000025                5                  1                   1   \n",
              "1  1002945                5                  4                   4   \n",
              "2  1015425                3                  1                   1   \n",
              "3  1016277                6                  8                   8   \n",
              "4  1017023                4                  1                   1   \n",
              "5  1017122                8                 10                  10   \n",
              "6  1018099                1                  1                   1   \n",
              "7  1018561                2                  1                   2   \n",
              "8  1033078                2                  1                   1   \n",
              "9  1033078                4                  2                   1   \n",
              "\n",
              "   marginal_adhesion  single_epithelial_size bare_nuclei  bland_chromatin  \\\n",
              "0                  1                       2           1                3   \n",
              "1                  5                       7          10                3   \n",
              "2                  1                       2           2                3   \n",
              "3                  1                       3           4                3   \n",
              "4                  3                       2           1                3   \n",
              "5                  8                       7          10                9   \n",
              "6                  1                       2          10                3   \n",
              "7                  1                       2           1                3   \n",
              "8                  1                       2           1                1   \n",
              "9                  1                       2           1                2   \n",
              "\n",
              "   normal_nucleoli  mitoses  class  \n",
              "0                1        1     -1  \n",
              "1                2        1     -1  \n",
              "2                1        1     -1  \n",
              "3                7        1     -1  \n",
              "4                1        1     -1  \n",
              "5                7        1      1  \n",
              "6                1        1     -1  \n",
              "7                1        1     -1  \n",
              "8                1        5     -1  \n",
              "9                1        1     -1  "
            ],
            "text/html": [
              "\n",
              "  <div id=\"df-43700fbb-0dde-4534-b82c-36a2e0e7cd96\">\n",
              "    <div class=\"colab-df-container\">\n",
              "      <div>\n",
              "<style scoped>\n",
              "    .dataframe tbody tr th:only-of-type {\n",
              "        vertical-align: middle;\n",
              "    }\n",
              "\n",
              "    .dataframe tbody tr th {\n",
              "        vertical-align: top;\n",
              "    }\n",
              "\n",
              "    .dataframe thead th {\n",
              "        text-align: right;\n",
              "    }\n",
              "</style>\n",
              "<table border=\"1\" class=\"dataframe\">\n",
              "  <thead>\n",
              "    <tr style=\"text-align: right;\">\n",
              "      <th></th>\n",
              "      <th>id</th>\n",
              "      <th>clump_thickness</th>\n",
              "      <th>uniform_cell_size</th>\n",
              "      <th>uniform_cell_shape</th>\n",
              "      <th>marginal_adhesion</th>\n",
              "      <th>single_epithelial_size</th>\n",
              "      <th>bare_nuclei</th>\n",
              "      <th>bland_chromatin</th>\n",
              "      <th>normal_nucleoli</th>\n",
              "      <th>mitoses</th>\n",
              "      <th>class</th>\n",
              "    </tr>\n",
              "  </thead>\n",
              "  <tbody>\n",
              "    <tr>\n",
              "      <th>0</th>\n",
              "      <td>1000025</td>\n",
              "      <td>5</td>\n",
              "      <td>1</td>\n",
              "      <td>1</td>\n",
              "      <td>1</td>\n",
              "      <td>2</td>\n",
              "      <td>1</td>\n",
              "      <td>3</td>\n",
              "      <td>1</td>\n",
              "      <td>1</td>\n",
              "      <td>-1</td>\n",
              "    </tr>\n",
              "    <tr>\n",
              "      <th>1</th>\n",
              "      <td>1002945</td>\n",
              "      <td>5</td>\n",
              "      <td>4</td>\n",
              "      <td>4</td>\n",
              "      <td>5</td>\n",
              "      <td>7</td>\n",
              "      <td>10</td>\n",
              "      <td>3</td>\n",
              "      <td>2</td>\n",
              "      <td>1</td>\n",
              "      <td>-1</td>\n",
              "    </tr>\n",
              "    <tr>\n",
              "      <th>2</th>\n",
              "      <td>1015425</td>\n",
              "      <td>3</td>\n",
              "      <td>1</td>\n",
              "      <td>1</td>\n",
              "      <td>1</td>\n",
              "      <td>2</td>\n",
              "      <td>2</td>\n",
              "      <td>3</td>\n",
              "      <td>1</td>\n",
              "      <td>1</td>\n",
              "      <td>-1</td>\n",
              "    </tr>\n",
              "    <tr>\n",
              "      <th>3</th>\n",
              "      <td>1016277</td>\n",
              "      <td>6</td>\n",
              "      <td>8</td>\n",
              "      <td>8</td>\n",
              "      <td>1</td>\n",
              "      <td>3</td>\n",
              "      <td>4</td>\n",
              "      <td>3</td>\n",
              "      <td>7</td>\n",
              "      <td>1</td>\n",
              "      <td>-1</td>\n",
              "    </tr>\n",
              "    <tr>\n",
              "      <th>4</th>\n",
              "      <td>1017023</td>\n",
              "      <td>4</td>\n",
              "      <td>1</td>\n",
              "      <td>1</td>\n",
              "      <td>3</td>\n",
              "      <td>2</td>\n",
              "      <td>1</td>\n",
              "      <td>3</td>\n",
              "      <td>1</td>\n",
              "      <td>1</td>\n",
              "      <td>-1</td>\n",
              "    </tr>\n",
              "    <tr>\n",
              "      <th>5</th>\n",
              "      <td>1017122</td>\n",
              "      <td>8</td>\n",
              "      <td>10</td>\n",
              "      <td>10</td>\n",
              "      <td>8</td>\n",
              "      <td>7</td>\n",
              "      <td>10</td>\n",
              "      <td>9</td>\n",
              "      <td>7</td>\n",
              "      <td>1</td>\n",
              "      <td>1</td>\n",
              "    </tr>\n",
              "    <tr>\n",
              "      <th>6</th>\n",
              "      <td>1018099</td>\n",
              "      <td>1</td>\n",
              "      <td>1</td>\n",
              "      <td>1</td>\n",
              "      <td>1</td>\n",
              "      <td>2</td>\n",
              "      <td>10</td>\n",
              "      <td>3</td>\n",
              "      <td>1</td>\n",
              "      <td>1</td>\n",
              "      <td>-1</td>\n",
              "    </tr>\n",
              "    <tr>\n",
              "      <th>7</th>\n",
              "      <td>1018561</td>\n",
              "      <td>2</td>\n",
              "      <td>1</td>\n",
              "      <td>2</td>\n",
              "      <td>1</td>\n",
              "      <td>2</td>\n",
              "      <td>1</td>\n",
              "      <td>3</td>\n",
              "      <td>1</td>\n",
              "      <td>1</td>\n",
              "      <td>-1</td>\n",
              "    </tr>\n",
              "    <tr>\n",
              "      <th>8</th>\n",
              "      <td>1033078</td>\n",
              "      <td>2</td>\n",
              "      <td>1</td>\n",
              "      <td>1</td>\n",
              "      <td>1</td>\n",
              "      <td>2</td>\n",
              "      <td>1</td>\n",
              "      <td>1</td>\n",
              "      <td>1</td>\n",
              "      <td>5</td>\n",
              "      <td>-1</td>\n",
              "    </tr>\n",
              "    <tr>\n",
              "      <th>9</th>\n",
              "      <td>1033078</td>\n",
              "      <td>4</td>\n",
              "      <td>2</td>\n",
              "      <td>1</td>\n",
              "      <td>1</td>\n",
              "      <td>2</td>\n",
              "      <td>1</td>\n",
              "      <td>2</td>\n",
              "      <td>1</td>\n",
              "      <td>1</td>\n",
              "      <td>-1</td>\n",
              "    </tr>\n",
              "  </tbody>\n",
              "</table>\n",
              "</div>\n",
              "      <button class=\"colab-df-convert\" onclick=\"convertToInteractive('df-43700fbb-0dde-4534-b82c-36a2e0e7cd96')\"\n",
              "              title=\"Convert this dataframe to an interactive table.\"\n",
              "              style=\"display:none;\">\n",
              "        \n",
              "  <svg xmlns=\"http://www.w3.org/2000/svg\" height=\"24px\"viewBox=\"0 0 24 24\"\n",
              "       width=\"24px\">\n",
              "    <path d=\"M0 0h24v24H0V0z\" fill=\"none\"/>\n",
              "    <path d=\"M18.56 5.44l.94 2.06.94-2.06 2.06-.94-2.06-.94-.94-2.06-.94 2.06-2.06.94zm-11 1L8.5 8.5l.94-2.06 2.06-.94-2.06-.94L8.5 2.5l-.94 2.06-2.06.94zm10 10l.94 2.06.94-2.06 2.06-.94-2.06-.94-.94-2.06-.94 2.06-2.06.94z\"/><path d=\"M17.41 7.96l-1.37-1.37c-.4-.4-.92-.59-1.43-.59-.52 0-1.04.2-1.43.59L10.3 9.45l-7.72 7.72c-.78.78-.78 2.05 0 2.83L4 21.41c.39.39.9.59 1.41.59.51 0 1.02-.2 1.41-.59l7.78-7.78 2.81-2.81c.8-.78.8-2.07 0-2.86zM5.41 20L4 18.59l7.72-7.72 1.47 1.35L5.41 20z\"/>\n",
              "  </svg>\n",
              "      </button>\n",
              "      \n",
              "  <style>\n",
              "    .colab-df-container {\n",
              "      display:flex;\n",
              "      flex-wrap:wrap;\n",
              "      gap: 12px;\n",
              "    }\n",
              "\n",
              "    .colab-df-convert {\n",
              "      background-color: #E8F0FE;\n",
              "      border: none;\n",
              "      border-radius: 50%;\n",
              "      cursor: pointer;\n",
              "      display: none;\n",
              "      fill: #1967D2;\n",
              "      height: 32px;\n",
              "      padding: 0 0 0 0;\n",
              "      width: 32px;\n",
              "    }\n",
              "\n",
              "    .colab-df-convert:hover {\n",
              "      background-color: #E2EBFA;\n",
              "      box-shadow: 0px 1px 2px rgba(60, 64, 67, 0.3), 0px 1px 3px 1px rgba(60, 64, 67, 0.15);\n",
              "      fill: #174EA6;\n",
              "    }\n",
              "\n",
              "    [theme=dark] .colab-df-convert {\n",
              "      background-color: #3B4455;\n",
              "      fill: #D2E3FC;\n",
              "    }\n",
              "\n",
              "    [theme=dark] .colab-df-convert:hover {\n",
              "      background-color: #434B5C;\n",
              "      box-shadow: 0px 1px 3px 1px rgba(0, 0, 0, 0.15);\n",
              "      filter: drop-shadow(0px 1px 2px rgba(0, 0, 0, 0.3));\n",
              "      fill: #FFFFFF;\n",
              "    }\n",
              "  </style>\n",
              "\n",
              "      <script>\n",
              "        const buttonEl =\n",
              "          document.querySelector('#df-43700fbb-0dde-4534-b82c-36a2e0e7cd96 button.colab-df-convert');\n",
              "        buttonEl.style.display =\n",
              "          google.colab.kernel.accessAllowed ? 'block' : 'none';\n",
              "\n",
              "        async function convertToInteractive(key) {\n",
              "          const element = document.querySelector('#df-43700fbb-0dde-4534-b82c-36a2e0e7cd96');\n",
              "          const dataTable =\n",
              "            await google.colab.kernel.invokeFunction('convertToInteractive',\n",
              "                                                     [key], {});\n",
              "          if (!dataTable) return;\n",
              "\n",
              "          const docLinkHtml = 'Like what you see? Visit the ' +\n",
              "            '<a target=\"_blank\" href=https://colab.research.google.com/notebooks/data_table.ipynb>data table notebook</a>'\n",
              "            + ' to learn more about interactive tables.';\n",
              "          element.innerHTML = '';\n",
              "          dataTable['output_type'] = 'display_data';\n",
              "          await google.colab.output.renderOutput(dataTable, element);\n",
              "          const docLink = document.createElement('div');\n",
              "          docLink.innerHTML = docLinkHtml;\n",
              "          element.appendChild(docLink);\n",
              "        }\n",
              "      </script>\n",
              "    </div>\n",
              "  </div>\n",
              "  "
            ]
          },
          "metadata": {},
          "execution_count": 30
        }
      ]
    },
    {
      "cell_type": "code",
      "source": [
        "X = breast_cancer.drop(['class'], axis=1).to_numpy()\n",
        "y = breast_cancer['class'].to_numpy()\n",
        "\n",
        "X_train, X_test, y_train, y_test = train_test_split(X, y, test_size=0.3, random_state=None)"
      ],
      "metadata": {
        "id": "DIZAgG3KdK8q"
      },
      "execution_count": null,
      "outputs": []
    },
    {
      "cell_type": "code",
      "source": [
        "scale = StandardScaler()\n",
        "X_train = scale.fit_transform(X_train)\n",
        "X_test = scale.transform(X_test)"
      ],
      "metadata": {
        "id": "f4p46SwPdXKj"
      },
      "execution_count": null,
      "outputs": []
    },
    {
      "cell_type": "code",
      "source": [
        "# Use the RandomOverSampler to oversample the minority class\n",
        "ros = RandomOverSampler(random_state=0)\n",
        "X_train_resampled, y_train_resampled = ros.fit_resample(X_train, y_train)"
      ],
      "metadata": {
        "id": "qUdJviS0lfAt"
      },
      "execution_count": null,
      "outputs": []
    },
    {
      "cell_type": "code",
      "source": [
        "import numpy as np\n",
        "from sklearn.metrics import precision_score, f1_score\n",
        "\n",
        "# Θέτουμε τους αριθμούς παρτίδων και σαρώσεων\n",
        "num_batches = [5,10, 20]\n",
        "num_scans= [5,10, 20]\n",
        "\n",
        "for batch in num_batches:\n",
        "    for scan in num_scans:\n",
        "        # Αρχικοποιούμε το μοντέλο\n",
        "        svm_model = SGDClassifier(loss='hinge', alpha=0.001, learning_rate='constant', eta0=0.01,\n",
        "                    max_iter=1000, average=30, n_iter_no_change=6)\n",
        "\n",
        "        # Εκπαιδεύουμε το μοντέλο χρησιμοποιώντας mini-batch SGD\n",
        "        n_samples = X_train.shape[0]\n",
        "        for scan in range(scan):\n",
        "            shuffled_indices = np.random.permutation(n_samples)\n",
        "            for batch_start in range(0, n_samples, batch):\n",
        "                batch_end = min(batch_start + batch, n_samples)\n",
        "                batch_indices = shuffled_indices[batch_start:batch_end]\n",
        "                X_batch = X_train[batch_indices]\n",
        "                y_batch = y_train[batch_indices]\n",
        "                svm_model.partial_fit(X_batch, y_batch, classes=np.unique(y_train))\n",
        "\n",
        "        # Προβλέπουμε τις ετικέτες του σετ ελέγχου\n",
        "        y_pred = svm_model.predict(X_test)\n",
        "\n",
        "        # Υπολογίζουμε την ακρίβεια, την προσέγγιση και το F1\n",
        "        accuracy = svm_model.score(X_test, y_test)\n",
        "        precision = precision_score(y_test, y_pred, average='weighted')\n",
        "        f1 = f1_score(y_test, y_pred, average='weighted')\n",
        "\n",
        "        # Εκτύπωση αποτελεσμάτων\n",
        "        print(\"ℓ = %d, T = %d, accuracy = %.3f, precision = %.3f, F1 = %.3f\" % (batch, scan, accuracy, precision, f1))"
      ],
      "metadata": {
        "colab": {
          "base_uri": "https://localhost:8080/"
        },
        "id": "v952VNFad6xE",
        "outputId": "e9f05ec1-526c-416f-d067-86e748096583"
      },
      "execution_count": null,
      "outputs": [
        {
          "output_type": "stream",
          "name": "stdout",
          "text": [
            "ℓ = 5, T = 4, accuracy = 0.971, precision = 0.972, F1 = 0.971\n",
            "ℓ = 5, T = 9, accuracy = 0.971, precision = 0.972, F1 = 0.971\n",
            "ℓ = 5, T = 19, accuracy = 0.976, precision = 0.976, F1 = 0.976\n",
            "ℓ = 10, T = 4, accuracy = 0.971, precision = 0.972, F1 = 0.971\n",
            "ℓ = 10, T = 9, accuracy = 0.971, precision = 0.972, F1 = 0.971\n",
            "ℓ = 10, T = 19, accuracy = 0.971, precision = 0.972, F1 = 0.971\n",
            "ℓ = 20, T = 4, accuracy = 0.971, precision = 0.972, F1 = 0.971\n",
            "ℓ = 20, T = 9, accuracy = 0.976, precision = 0.977, F1 = 0.976\n",
            "ℓ = 20, T = 19, accuracy = 0.971, precision = 0.972, F1 = 0.971\n"
          ]
        }
      ]
    },
    {
      "cell_type": "markdown",
      "source": [
        "2o Ερώτημα"
      ],
      "metadata": {
        "id": "0HqG1IKo4pqn"
      }
    },
    {
      "cell_type": "markdown",
      "source": [
        "# **Car**"
      ],
      "metadata": {
        "id": "8oi7NtN4bYRa"
      }
    },
    {
      "cell_type": "code",
      "source": [
        "from imblearn.over_sampling import RandomOverSampler"
      ],
      "metadata": {
        "id": "oMHLqJLh-ci6"
      },
      "execution_count": null,
      "outputs": []
    },
    {
      "cell_type": "code",
      "source": [
        "import pandas as pd\n",
        "\n",
        "# Load the Car Evaluation Data Set from UCI\n",
        "url = 'https://archive.ics.uci.edu/ml/machine-learning-databases/car/car.data'\n",
        "df = pd.read_csv(url, header=None)\n",
        "\n",
        "# Display first 5 rows of DataFrame\n",
        "print(df.head())"
      ],
      "metadata": {
        "colab": {
          "base_uri": "https://localhost:8080/"
        },
        "id": "Kay6x9PrMUnU",
        "outputId": "a14a3d3b-d10f-4747-85c1-f77f39b12e2c"
      },
      "execution_count": null,
      "outputs": [
        {
          "output_type": "stream",
          "name": "stdout",
          "text": [
            "       0      1  2  3      4     5      6\n",
            "0  vhigh  vhigh  2  2  small   low  unacc\n",
            "1  vhigh  vhigh  2  2  small   med  unacc\n",
            "2  vhigh  vhigh  2  2  small  high  unacc\n",
            "3  vhigh  vhigh  2  2    med   low  unacc\n",
            "4  vhigh  vhigh  2  2    med   med  unacc\n"
          ]
        }
      ]
    },
    {
      "cell_type": "code",
      "source": [
        "from sklearn.preprocessing import LabelEncoder\n",
        "\n",
        "# Define column names\n",
        "columns = ['buying', 'maint', 'doors', 'persons', 'lug_boot', 'safety', 'class']\n",
        "\n",
        "# create a label encoder object\n",
        "label_encoder = LabelEncoder()\n",
        "\n",
        "# Assign column names to DataFrame\n",
        "df.columns = columns\n",
        "\n",
        "# label encode the categorical columns\n",
        "for col in columns:\n",
        "    df[col] = label_encoder.fit_transform(df[col])\n",
        "\n",
        "# print the first few rows of the encoded dataframe\n",
        "print(df.head())\n",
        "\n",
        "# print the shape of the encoded dataframe\n",
        "df.shape"
      ],
      "metadata": {
        "colab": {
          "base_uri": "https://localhost:8080/"
        },
        "id": "hXJH9ifTSVVW",
        "outputId": "0bdff5ac-5683-4274-fcae-604dac2297a1"
      },
      "execution_count": null,
      "outputs": [
        {
          "output_type": "stream",
          "name": "stdout",
          "text": [
            "   buying  maint  doors  persons  lug_boot  safety  class\n",
            "0       3      3      0        0         2       1      2\n",
            "1       3      3      0        0         2       2      2\n",
            "2       3      3      0        0         2       0      2\n",
            "3       3      3      0        0         1       1      2\n",
            "4       3      3      0        0         1       2      2\n"
          ]
        },
        {
          "output_type": "execute_result",
          "data": {
            "text/plain": [
              "(1728, 7)"
            ]
          },
          "metadata": {},
          "execution_count": 23
        }
      ]
    },
    {
      "cell_type": "code",
      "source": [
        "# Set the first column as the target\n",
        "X = df.drop('class', axis=1).to_numpy()\n",
        "y = df['class'].to_numpy()\n",
        "\n",
        "# Split the data into training and testing sets\n",
        "X_train, X_test, y_train, y_test = train_test_split(X, y, test_size=0.3, random_state=None)"
      ],
      "metadata": {
        "id": "aGmEwCEVMrHT"
      },
      "execution_count": null,
      "outputs": []
    },
    {
      "cell_type": "code",
      "source": [
        "# Use the RandomOverSampler to oversample the minority class\n",
        "ros = RandomOverSampler(random_state=0)\n",
        "X_train_resampled, y_train_resampled = ros.fit_resample(X_train, y_train)"
      ],
      "metadata": {
        "id": "d7f2cbmK-5ub"
      },
      "execution_count": null,
      "outputs": []
    },
    {
      "cell_type": "code",
      "source": [
        "# Initialize the SVM model with hinge loss\n",
        "svm_model = SGDClassifier(loss='hinge', alpha=0.001, learning_rate='constant', eta0=0.01,\n",
        "                max_iter=1000, average=30, n_iter_no_change=6)\n",
        "\n",
        "# Train the model using mini-batch SGD with ℓ = 1\n",
        "n_samples = X_train.shape[0]\n",
        "for scan in range(5):\n",
        "    shuffled_indices = np.random.permutation(n_samples)\n",
        "    for i in range(n_samples):\n",
        "        batch_indices = shuffled_indices[i:i+1]\n",
        "        X_batch = X_train[batch_indices]\n",
        "        y_batch = y_train[batch_indices]\n",
        "        svm_model.partial_fit(X_batch, y_batch, classes=np.unique(y_train))\n",
        "\n",
        "# Predict the labels of the test set\n",
        "y_pred = svm_model.predict(X_test)\n",
        "\n",
        "# Evaluate the model performance\n",
        "accuracy = svm_model.score(X_test, y_test)\n",
        "precision = precision_score(y_test, y_pred, average='weighted')\n",
        "f1 = f1_score(y_test, y_pred, average='weighted')\n",
        "\n",
        "# Print the results\n",
        "print(\"Accuracy: %.3f\" % accuracy)\n",
        "print(\"Precision: %.3f\" % precision)\n",
        "print(\"F1 Score: %.3f\" % f1)\n"
      ],
      "metadata": {
        "colab": {
          "base_uri": "https://localhost:8080/"
        },
        "id": "wPvfuiWzdCjs",
        "outputId": "8f6c7e22-8d2a-4848-e948-0037e7189af4"
      },
      "execution_count": null,
      "outputs": [
        {
          "output_type": "stream",
          "name": "stdout",
          "text": [
            "Accuracy: 0.713\n",
            "Precision: 0.620\n",
            "F1 Score: 0.635\n"
          ]
        },
        {
          "output_type": "stream",
          "name": "stderr",
          "text": [
            "/usr/local/lib/python3.8/dist-packages/sklearn/metrics/_classification.py:1318: UndefinedMetricWarning: Precision is ill-defined and being set to 0.0 in labels with no predicted samples. Use `zero_division` parameter to control this behavior.\n",
            "  _warn_prf(average, modifier, msg_start, len(result))\n"
          ]
        }
      ]
    },
    {
      "cell_type": "markdown",
      "source": [
        "# **LOGISTIC REGRESSION**"
      ],
      "metadata": {
        "id": "OKy1PhbccWK6"
      }
    },
    {
      "cell_type": "code",
      "source": [
        "# Load the Car Evaluation Data Set from UCI\n",
        "url = 'https://archive.ics.uci.edu/ml/machine-learning-databases/car/car.data'\n",
        "df = pd.read_csv(url, header=None)\n",
        "\n",
        "from sklearn.preprocessing import LabelEncoder\n",
        "\n",
        "# Define column names\n",
        "columns = ['buying', 'maint', 'doors', 'persons', 'lug_boot', 'safety', 'class']\n",
        "\n",
        "# create a label encoder object\n",
        "label_encoder = LabelEncoder()\n",
        "\n",
        "# Assign column names to DataFrame\n",
        "df.columns = columns\n",
        "\n",
        "# label encode the categorical columns\n",
        "for col in columns:\n",
        "    df[col] = label_encoder.fit_transform(df[col])\n",
        "\n",
        "# print the first few rows of the encoded dataframe\n",
        "print(df.head())\n",
        "\n",
        "# print the shape of the encoded dataframe\n",
        "print(df.shape)\n",
        "\n",
        "# Split the data into training and testing sets\n",
        "X_train, X_test, y_train, y_test = train_test_split(X, y, test_size=0.3, random_state=42)\n",
        "\n",
        "# Create and train a logistic regression model\n",
        "logreg = LogisticRegression()\n",
        "logreg.fit(X_train, y_train)\n",
        "\n",
        "# Use the model to make predictions on the test set\n",
        "y_pred = logreg.predict(X_test)\n",
        "\n",
        "# Evaluate the performance of the model\n",
        "accuracy = accuracy_score(y_test, y_pred)\n",
        "precision = precision_score(y_test, y_pred, average='weighted')\n",
        "recall = recall_score(y_test, y_pred, average='weighted')\n",
        "f1 = f1_score(y_test, y_pred, average='weighted')\n",
        "\n",
        "print(\"Accuracy: {:.3f}\".format(accuracy))\n",
        "print(\"Precision: {:.3f}\".format(precision))\n",
        "print(\"Recall: {:.3f}\".format(recall))\n",
        "print(\"F1 Score: {:.3f}\".format(f1))"
      ],
      "metadata": {
        "colab": {
          "base_uri": "https://localhost:8080/"
        },
        "id": "Q754ZsKIcUKh",
        "outputId": "7154a92e-4196-421a-f81f-42b43da72b06"
      },
      "execution_count": null,
      "outputs": [
        {
          "output_type": "stream",
          "name": "stdout",
          "text": [
            "   buying  maint  doors  persons  lug_boot  safety  class\n",
            "0       3      3      0        0         2       1      2\n",
            "1       3      3      0        0         2       2      2\n",
            "2       3      3      0        0         2       0      2\n",
            "3       3      3      0        0         1       1      2\n",
            "4       3      3      0        0         1       2      2\n",
            "(1728, 7)\n",
            "Accuracy: 0.665\n",
            "Precision: 0.579\n",
            "Recall: 0.665\n",
            "F1 Score: 0.611\n"
          ]
        },
        {
          "output_type": "stream",
          "name": "stderr",
          "text": [
            "/usr/local/lib/python3.8/dist-packages/sklearn/metrics/_classification.py:1318: UndefinedMetricWarning: Precision is ill-defined and being set to 0.0 in labels with no predicted samples. Use `zero_division` parameter to control this behavior.\n",
            "  _warn_prf(average, modifier, msg_start, len(result))\n"
          ]
        }
      ]
    },
    {
      "cell_type": "markdown",
      "source": [
        "# IT ONLY USED FOR TESTING \n",
        "## WINE"
      ],
      "metadata": {
        "id": "KEbkSVktbpbR"
      }
    },
    {
      "cell_type": "code",
      "source": [
        "import pandas as pd\n",
        "import numpy as np\n",
        "from sklearn.datasets import load_wine\n",
        "from sklearn.model_selection import train_test_split\n",
        "from sklearn.preprocessing import StandardScaler\n",
        "from sklearn.linear_model import SGDClassifier\n",
        "from sklearn.metrics import precision_score, f1_score\n",
        "\n",
        "# Load the wine dataset from UCI\n",
        "url = 'https://archive.ics.uci.edu/ml/machine-learning-databases/wine/wine.data'\n",
        "df = pd.read_csv(url, header=None)\n",
        "\n",
        "# Rename the columns\n",
        "columns = ['target', 'alcohol', 'malic_acid', 'ash', 'alcalinity_of_ash', 'magnesium', 'total_phenols', 'flavanoids', 'nonflavanoid_phenols', 'proanthocyanins', 'color_intensity', 'hue', 'od280/od315_of_diluted_wines', 'proline']\n",
        "df.columns = columns\n",
        "\n",
        "# Set the first column as the target\n",
        "X = df.drop('target', axis=1).to_numpy()\n",
        "y = df['target'].to_numpy()\n",
        "\n",
        "# Split the data into training and testing sets\n",
        "X_train, X_test, y_train, y_test = train_test_split(X, y, test_size=0.3, random_state=None)\n"
      ],
      "metadata": {
        "id": "BzDkAEtfGV0w"
      },
      "execution_count": null,
      "outputs": []
    },
    {
      "cell_type": "code",
      "source": [
        "# Scale the data\n",
        "scaler = StandardScaler()\n",
        "X_train = scaler.fit_transform(X_train)\n",
        "X_test = scaler.transform(X_test)"
      ],
      "metadata": {
        "id": "2dZgDL7qTdqY"
      },
      "execution_count": null,
      "outputs": []
    },
    {
      "cell_type": "code",
      "source": [
        "# Initialize the SVM model with hinge loss\n",
        "svm_model = SGDClassifier(loss='hinge', alpha=0.001, learning_rate='constant', eta0=0.01,\n",
        "                max_iter=1000, average=30, n_iter_no_change=6)\n",
        "\n",
        "# Train the model using mini-batch SGD with ℓ = 1\n",
        "n_samples = X_train.shape[0]\n",
        "for scan in range(5):\n",
        "    shuffled_indices = np.random.permutation(n_samples)\n",
        "    for i in range(n_samples):\n",
        "        batch_indices = shuffled_indices[i:i+1]\n",
        "        X_batch = X_train[batch_indices]\n",
        "        y_batch = y_train[batch_indices]\n",
        "        svm_model.partial_fit(X_batch, y_batch, classes=np.unique(y_train))\n",
        "\n",
        "# Predict the labels of the test set\n",
        "y_pred = svm_model.predict(X_test)\n",
        "\n",
        "# Evaluate the model performance\n",
        "accuracy = svm_model.score(X_test, y_test)\n",
        "precision = precision_score(y_test, y_pred, average='weighted')\n",
        "f1 = f1_score(y_test, y_pred, average='weighted')\n",
        "\n",
        "# Print the results\n",
        "print(\"Accuracy: %.3f\" % accuracy)\n",
        "print(\"Precision: %.3f\" % precision)\n",
        "print(\"F1 Score: %.3f\" % f1)\n"
      ],
      "metadata": {
        "colab": {
          "base_uri": "https://localhost:8080/"
        },
        "id": "jp0q18Vy5KHa",
        "outputId": "231dffb6-0adf-4212-bac0-63cb0e423c52"
      },
      "execution_count": null,
      "outputs": [
        {
          "output_type": "stream",
          "name": "stdout",
          "text": [
            "Accuracy: 0.981\n",
            "Precision: 0.983\n",
            "F1 Score: 0.982\n"
          ]
        }
      ]
    },
    {
      "cell_type": "code",
      "source": [
        "import pandas as pd\n",
        "from sklearn.datasets import load_wine\n",
        "from sklearn.model_selection import train_test_split\n",
        "from sklearn.linear_model import LogisticRegression\n",
        "from sklearn.metrics import accuracy_score, precision_score, recall_score, f1_score\n",
        "\n",
        "# Load the wine dataset\n",
        "wine = load_wine()\n",
        "\n",
        "# Create a dataframe from the data and feature names\n",
        "df = pd.DataFrame(wine.data, columns=wine.feature_names)\n",
        "\n",
        "# Create a new column in the dataframe for the target variable\n",
        "df['target'] = wine.target\n",
        "\n",
        "# Define variables for data and target\n",
        "X = df.drop('target', axis=1)\n",
        "y = df['target']\n",
        "\n",
        "# Split the data into training and testing sets\n",
        "X_train, X_test, y_train, y_test = train_test_split(X, y, test_size=0.3, random_state=42)\n",
        "\n",
        "# Create and train a logistic regression model\n",
        "logreg = LogisticRegression()\n",
        "logreg.fit(X_train, y_train)\n",
        "\n",
        "# Use the model to make predictions on the test set\n",
        "y_pred = logreg.predict(X_test)\n",
        "\n",
        "# Evaluate the performance of the model\n",
        "accuracy = accuracy_score(y_test, y_pred)\n",
        "precision = precision_score(y_test, y_pred, average='weighted')\n",
        "recall = recall_score(y_test, y_pred, average='weighted')\n",
        "f1 = f1_score(y_test, y_pred, average='weighted')\n",
        "\n",
        "print(\"Accuracy: {:.3f}\".format(accuracy))\n",
        "print(\"Precision: {:.3f}\".format(precision))\n",
        "print(\"Recall: {:.3f}\".format(recall))\n",
        "print(\"F1 Score: {:.3f}\".format(f1))"
      ],
      "metadata": {
        "id": "cSiUMbBIWG2P"
      },
      "execution_count": null,
      "outputs": []
    },
    {
      "cell_type": "markdown",
      "source": [
        "**LOGISTIC REGRESSION**"
      ],
      "metadata": {
        "id": "beE7d6zlIARC"
      }
    },
    {
      "cell_type": "code",
      "source": [
        "import pandas as pd\n",
        "from sklearn.datasets import load_wine\n",
        "from sklearn.model_selection import train_test_split\n",
        "from sklearn.linear_model import LogisticRegression\n",
        "from sklearn.metrics import accuracy_score, precision_score, recall_score, f1_score\n",
        "\n",
        "# Load the wine dataset\n",
        "wine = load_wine()\n",
        "\n",
        "# Create a dataframe from the data and feature names\n",
        "df = pd.DataFrame(wine.data, columns=wine.feature_names)\n",
        "\n",
        "# Create a new column in the dataframe for the target variable\n",
        "df['target'] = wine.target\n",
        "\n",
        "# Define variables for data and target\n",
        "X = df.drop('target', axis=1)\n",
        "y = df['target']\n",
        "\n",
        "# Split the data into training and testing sets\n",
        "X_train, X_test, y_train, y_test = train_test_split(X, y, test_size=0.3, random_state=42)\n",
        "\n",
        "# Create and train a logistic regression model\n",
        "logreg = LogisticRegression()\n",
        "logreg.fit(X_train, y_train)\n",
        "\n",
        "# Use the model to make predictions on the test set\n",
        "y_pred = logreg.predict(X_test)\n",
        "\n",
        "# Evaluate the performance of the model\n",
        "accuracy = accuracy_score(y_test, y_pred)\n",
        "precision = precision_score(y_test, y_pred, average='weighted')\n",
        "recall = recall_score(y_test, y_pred, average='weighted')\n",
        "f1 = f1_score(y_test, y_pred, average='weighted')\n",
        "\n",
        "print(\"Accuracy: {:.3f}\".format(accuracy))\n",
        "print(\"Precision: {:.3f}\".format(precision))\n",
        "print(\"Recall: {:.3f}\".format(recall))\n",
        "print(\"F1 Score: {:.3f}\".format(f1))\n"
      ],
      "metadata": {
        "colab": {
          "base_uri": "https://localhost:8080/"
        },
        "id": "DVehW1WgH-Ua",
        "outputId": "851a60e1-cfbf-4f7e-cc55-9fd94088888f"
      },
      "execution_count": null,
      "outputs": [
        {
          "output_type": "stream",
          "name": "stdout",
          "text": [
            "Accuracy: 0.981\n",
            "Precision: 0.982\n",
            "Recall: 0.981\n",
            "F1 Score: 0.981\n"
          ]
        },
        {
          "output_type": "stream",
          "name": "stderr",
          "text": [
            "/usr/local/lib/python3.8/dist-packages/sklearn/linear_model/_logistic.py:814: ConvergenceWarning: lbfgs failed to converge (status=1):\n",
            "STOP: TOTAL NO. of ITERATIONS REACHED LIMIT.\n",
            "\n",
            "Increase the number of iterations (max_iter) or scale the data as shown in:\n",
            "    https://scikit-learn.org/stable/modules/preprocessing.html\n",
            "Please also refer to the documentation for alternative solver options:\n",
            "    https://scikit-learn.org/stable/modules/linear_model.html#logistic-regression\n",
            "  n_iter_i = _check_optimize_result(\n"
          ]
        }
      ]
    },
    {
      "cell_type": "markdown",
      "source": [
        "# 3o ΕΡΩΤΗΜΑ"
      ],
      "metadata": {
        "id": "dySGpI4FwE0N"
      }
    },
    {
      "cell_type": "code",
      "source": [
        "# Load the CIFAR-10 dataset\n",
        "(X_train, y_train), (X_test, y_test) = cifar10.load_data()"
      ],
      "metadata": {
        "id": "v9gmm8CYSJQF"
      },
      "execution_count": null,
      "outputs": []
    },
    {
      "cell_type": "code",
      "source": [
        "# Reshape the input data to have only two dimensions\n",
        "X_train = X_train.reshape((-1, 32 * 32 * 3))\n",
        "X_test = X_test.reshape((-1, 32 * 32 * 3))\n",
        "\n",
        "# Convert the target labels to a one-dimensional array\n",
        "y_train = y_train.ravel()\n",
        "y_test = y_test.ravel()\n",
        "\n",
        "# Define a list of C values to try\n",
        "C_values = [0.1, 1, 10]\n",
        "\n",
        "# Train and evaluate the SVM for each C value\n",
        "test_accuracies = []\n",
        "for C in C_values:\n",
        "    # Create an SVC model\n",
        "    svm = SVC(kernel=\"linear\", C=C, max_iter=50, tol=1e-3)\n",
        "\n",
        "    # Train the model on the training data\n",
        "    svm.fit(X_train, y_train)\n",
        "\n",
        "    # Evaluate the model on the test data\n",
        "    y_pred = svm.predict(X_test)\n",
        "    test_accuracy = accuracy_score(y_test, y_pred)\n",
        "    test_accuracies.append(test_accuracy)\n",
        "\n",
        "    print(f\"C = {C}: test accuracy = {test_accuracy:.4f}\")\n",
        "\n",
        "# Plot the test accuracies as a function of C\n",
        "plt.plot(C_values, test_accuracies, 'bo-')\n",
        "plt.xscale('log')\n",
        "plt.xlabel('C value')\n",
        "plt.ylabel('Test accuracy')\n",
        "plt.show()\n"
      ],
      "metadata": {
        "colab": {
          "base_uri": "https://localhost:8080/",
          "height": 459
        },
        "id": "unWRGg90sSHi",
        "outputId": "4884e658-a803-4740-f131-35622f983456"
      },
      "execution_count": null,
      "outputs": [
        {
          "output_type": "stream",
          "name": "stderr",
          "text": [
            "/usr/local/lib/python3.8/dist-packages/sklearn/svm/_base.py:284: ConvergenceWarning: Solver terminated early (max_iter=50).  Consider pre-processing your data with StandardScaler or MinMaxScaler.\n",
            "  warnings.warn(\n"
          ]
        },
        {
          "output_type": "stream",
          "name": "stdout",
          "text": [
            "C = 0.1: test accuracy = 0.1942\n"
          ]
        },
        {
          "output_type": "stream",
          "name": "stderr",
          "text": [
            "/usr/local/lib/python3.8/dist-packages/sklearn/svm/_base.py:284: ConvergenceWarning: Solver terminated early (max_iter=50).  Consider pre-processing your data with StandardScaler or MinMaxScaler.\n",
            "  warnings.warn(\n"
          ]
        },
        {
          "output_type": "stream",
          "name": "stdout",
          "text": [
            "C = 1: test accuracy = 0.1942\n"
          ]
        },
        {
          "output_type": "stream",
          "name": "stderr",
          "text": [
            "/usr/local/lib/python3.8/dist-packages/sklearn/svm/_base.py:284: ConvergenceWarning: Solver terminated early (max_iter=50).  Consider pre-processing your data with StandardScaler or MinMaxScaler.\n",
            "  warnings.warn(\n"
          ]
        },
        {
          "output_type": "stream",
          "name": "stdout",
          "text": [
            "C = 10: test accuracy = 0.1942\n"
          ]
        },
        {
          "output_type": "display_data",
          "data": {
            "text/plain": [
              "<Figure size 432x288 with 1 Axes>"
            ],
            "image/png": "[encoded data removed]"
          },
          "metadata": {
            "needs_background": "light"
          }
        }
      ]
    },
    {
      "cell_type": "code",
      "source": [
        "from keras.datasets import cifar10\n",
        "from sklearn.svm import SVC\n",
        "from sklearn.metrics import accuracy_score\n",
        "import numpy as np\n",
        "import matplotlib.pyplot as plt\n",
        "from sklearn.linear_model import LogisticRegression\n",
        "\n",
        "# Load the CIFAR-10 dataset\n",
        "(X_train, y_train), (X_test, y_test) = cifar10.load_data()\n",
        "\n",
        "# Reshape the input data to have only two dimensions\n",
        "X_train = X_train.reshape((-1, 32 * 32 * 3))\n",
        "X_test = X_test.reshape((-1, 32 * 32 * 3))\n",
        "\n",
        "# Convert the target labels to a one-dimensional array\n",
        "y_train = y_train.ravel()\n",
        "y_test = y_test.ravel()\n",
        "\n",
        "# Create a logistic regression model\n",
        "logreg = LogisticRegression(solver='lbfgs', multi_class='multinomial')\n",
        "\n",
        "# Train the model on the training data\n",
        "logreg.fit(X_train, y_train)\n",
        "\n",
        "# Evaluate the model on the test data\n",
        "test_accuracy = logreg.score(X_test, y_test)\n",
        "print(\"Test accuracy:\", test_accuracy)\n"
      ],
      "metadata": {
        "colab": {
          "base_uri": "https://localhost:8080/"
        },
        "id": "Tf7NSXCMw9pO",
        "outputId": "bdd0d39a-acc8-44ea-c734-70843982716e"
      },
      "execution_count": null,
      "outputs": [
        {
          "output_type": "stream",
          "name": "stdout",
          "text": [
            "Downloading data from https://www.cs.toronto.edu/~kriz/cifar-10-python.tar.gz\n",
            "170498071/170498071 [==============================] - 3s 0us/step\n",
            "Test accuracy: 0.4024\n"
          ]
        },
        {
          "output_type": "stream",
          "name": "stderr",
          "text": [
            "/usr/local/lib/python3.8/dist-packages/sklearn/linear_model/_logistic.py:814: ConvergenceWarning: lbfgs failed to converge (status=1):\n",
            "STOP: TOTAL NO. of ITERATIONS REACHED LIMIT.\n",
            "\n",
            "Increase the number of iterations (max_iter) or scale the data as shown in:\n",
            "    https://scikit-learn.org/stable/modules/preprocessing.html\n",
            "Please also refer to the documentation for alternative solver options:\n",
            "    https://scikit-learn.org/stable/modules/linear_model.html#logistic-regression\n",
            "  n_iter_i = _check_optimize_result(\n"
          ]
        }
      ]
    }
  ]
}